{
 "cells": [
  {
   "cell_type": "code",
   "execution_count": 1,
   "id": "c67874ff-b795-4766-a4a4-76239e5e2601",
   "metadata": {},
   "outputs": [
    {
     "name": "stdout",
     "output_type": "stream",
     "text": [
      "this is my print\n"
     ]
    }
   ],
   "source": [
    "print(\"this is my print\")"
   ]
  },
  {
   "cell_type": "code",
   "execution_count": 2,
   "id": "b81d5264-2e91-49e6-9b13-577596f136f3",
   "metadata": {},
   "outputs": [],
   "source": [
    "l = [324,45,45,45]"
   ]
  },
  {
   "cell_type": "code",
   "execution_count": 3,
   "id": "e8fd15df-5a9f-479b-a81a-a2236a01c3bf",
   "metadata": {},
   "outputs": [
    {
     "data": {
      "text/plain": [
       "4"
      ]
     },
     "execution_count": 3,
     "metadata": {},
     "output_type": "execute_result"
    }
   ],
   "source": [
    "len(l)\n"
   ]
  },
  {
   "cell_type": "code",
   "execution_count": 4,
   "id": "e7742be5-f646-410e-b6f1-f19c33ccd63b",
   "metadata": {},
   "outputs": [
    {
     "data": {
      "text/plain": [
       "list"
      ]
     },
     "execution_count": 4,
     "metadata": {},
     "output_type": "execute_result"
    }
   ],
   "source": [
    "type(l)"
   ]
  },
  {
   "cell_type": "code",
   "execution_count": 5,
   "id": "1eb5d273-82cf-416d-ac7d-3950873e127b",
   "metadata": {},
   "outputs": [],
   "source": [
    "def test():\n",
    "    pass"
   ]
  },
  {
   "cell_type": "code",
   "execution_count": 6,
   "id": "9ada397a-8ddb-4fa7-97c2-171555fd3035",
   "metadata": {},
   "outputs": [],
   "source": [
    "def test1():\n",
    "    print(\"this is my very very first function\")"
   ]
  },
  {
   "cell_type": "code",
   "execution_count": 7,
   "id": "2da971fe-c2d2-428c-a28d-6bec91767b4f",
   "metadata": {},
   "outputs": [
    {
     "name": "stdout",
     "output_type": "stream",
     "text": [
      "this is my very very first function\n"
     ]
    }
   ],
   "source": [
    "test1()"
   ]
  },
  {
   "cell_type": "code",
   "execution_count": null,
   "id": "116304f9-084e-4f2a-a787-9841bb7711e1",
   "metadata": {},
   "outputs": [],
   "source": []
  }
 ],
 "metadata": {
  "kernelspec": {
   "display_name": "Python 3 (ipykernel)",
   "language": "python",
   "name": "python3"
  },
  "language_info": {
   "codemirror_mode": {
    "name": "ipython",
    "version": 3
   },
   "file_extension": ".py",
   "mimetype": "text/x-python",
   "name": "python",
   "nbconvert_exporter": "python",
   "pygments_lexer": "ipython3",
   "version": "3.8.10"
  }
 },
 "nbformat": 4,
 "nbformat_minor": 5
}
